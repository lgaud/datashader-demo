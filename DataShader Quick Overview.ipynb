{
 "cells": [
  {
   "cell_type": "code",
   "execution_count": 1,
   "metadata": {},
   "outputs": [
    {
     "data": {
      "text/html": [
       "<style>\n",
       "li,p {\n",
       "    font-size: 18px;\n",
       "}\n",
       "</style>    \n"
      ],
      "text/plain": [
       "<IPython.core.display.HTML object>"
      ]
     },
     "metadata": {},
     "output_type": "display_data"
    }
   ],
   "source": [
    "%%html\n",
    "<style>\n",
    "li,p {\n",
    "    font-size: 18px;\n",
    "}\n",
    "</style>    "
   ]
  },
  {
   "cell_type": "code",
   "execution_count": null,
   "metadata": {},
   "outputs": [],
   "source": [
    "import numpy as np\n",
    "np.random.seed(42)\n",
    "\n",
    "import holoviews as hv\n",
    "hv.notebook_extension('matplotlib')\n",
    "\n",
    "%opts Points [color_index=2] (cmap=\"bwr\" edgecolors='k' s=50 alpha=1.0)\n",
    "%opts Scatter3D [color_index=3 fig_size=250] (cmap='bwr' edgecolor='k' s=50 alpha=1.0)\n",
    "%opts Image (cmap=\"gray_r\") {+axiswise}\n",
    "%opts RGB [bgcolor=\"black\" show_grid=False]\n",
    "\n",
    "import holoviews.plotting.mpl\n",
    "holoviews.plotting.mpl.MPLPlot.fig_alpha = 0\n",
    "holoviews.plotting.mpl.ElementPlot.bgcolor = 'white'\n",
    "\n",
    "from holoviews.operation.datashader import datashade\n",
    "import colorcet as cc\n"
   ]
  },
  {
   "cell_type": "code",
   "execution_count": null,
   "metadata": {
    "scrolled": true
   },
   "outputs": [],
   "source": [
    "try:\n",
    "    from skimage.exposure import equalize_hist\n",
    "    eq_hist = lambda d,m: equalize_hist(1000*d,nbins=100000,mask=m)\n",
    "except ImportError:\n",
    "    eq_hist = lambda d,m: d\n",
    "    print(\"scikit-image not installed; skipping histogram equalization\")\n",
    "\n",
    "def heatmap(coords,bins=10,offset=0.0,transform=lambda d,m:d, label=None):\n",
    "    \"\"\"\n",
    "    Given a set of coordinates, bins them into a 2d histogram grid\n",
    "    of the specified size, and optionally transforms the counts\n",
    "    and/or compresses them into a visible range starting at a \n",
    "    specified offset between 0 and 1.0.\n",
    "    \"\"\"\n",
    "    hist,xs,ys  = np.histogram2d(coords[0], coords[1], bins=bins)\n",
    "    counts      = hist[:,::-1].T\n",
    "    transformed = transform(counts,counts!=0)\n",
    "    span        = transformed.max()-transformed.min()\n",
    "    compressed  = np.where(counts!=0,offset+(1.0-offset)*transformed/span,0)\n",
    "    args        = dict(label=label) if label else {}\n",
    "    return hv.Image(compressed,bounds=(xs[-1],ys[-1],xs[1],ys[1]),**args)\n",
    "\n",
    "def gaussians(specs=[(1.5,0,1.0),(-1.5,0,1.0)],num=100):\n",
    "    \"\"\"\n",
    "    A concatenated list of points taken from 2D Gaussian distributions.\n",
    "    Each distribution is specified as a tuple (x,y,s), where x,y is the mean\n",
    "    and s is the standard deviation.  Defaults to two horizontally\n",
    "    offset unit-mean Gaussians.\n",
    "    \"\"\"\n",
    "    np.random.seed(1)\n",
    "    dists = [(np.random.normal(x,s,num), np.random.normal(y,s,num)) for x,y,s in specs]\n",
    "    return np.hstack([d[0] for d in dists]), np.hstack([d[1] for d in dists])"
   ]
  },
  {
   "cell_type": "markdown",
   "metadata": {},
   "source": [
    "## What is Datashader?\n",
    "- Makes pictures of large datasets, fast!\n",
    "- Preserves distribution and outliers in the visualization\n",
    "- Highly performant - can plot a billion points on a laptop\n",
    "- Not exactly a plotting library but plays well with HoloViews and Bokeh (part of the PyViz ecosystem)\n",
    "- http://datashader.org\n",
    "\n",
    "## When would I want to use it?\n",
    "- When you have a LOT of data to plot, like tens of thousands or more points\n",
    "    - Can handle a billion points on a laptop with 16GB of RAM, more from a cluster\n",
    "- When you might be tempted to use a sample to plot with another library"
   ]
  },
  {
   "cell_type": "markdown",
   "metadata": {},
   "source": [
    "# Synthetic Example of Plotting Pitfalls\n",
    "\n",
    "- A bunch of points from 5 different gaussian distributions \n",
    "- 4 clusters of different sizes at the corners of a square, and one big cluster that overlaps all of them\n",
    "- This example comes from the 'Plotting Pitfalls' section of the Datashader User Guide http://datashader.org/user_guide/1_Plotting_Pitfalls.html"
   ]
  },
  {
   "cell_type": "code",
   "execution_count": null,
   "metadata": {
    "scrolled": true
   },
   "outputs": [],
   "source": [
    "%%opts Layout [sublabel_format=\"\" tight=True] Points {-axiswise}\n",
    "hv.notebook_extension('matplotlib')\n",
    "\n",
    "dist = gaussians(specs=[(2,2,0.02), (2,-2,0.1), (-2,-2,0.5), (-2,2,1.0), (0,0,3)],num=10000)\n",
    "\n",
    "(hv.Points(dist,label=\"1. Overplotting\") + \n",
    " hv.Points(dist,label=\"2. Oversaturation\")(style=dict(s=0.1,alpha=0.5)) + \n",
    " hv.Points((dist[0][::200],dist[1][::200]),label=\"3. Undersampling\")(style=dict(s=2,alpha=0.5))).cols(3)"
   ]
  },
  {
   "cell_type": "code",
   "execution_count": null,
   "metadata": {},
   "outputs": [],
   "source": [
    "%%opts Layout [sublabel_format=\"\" tight=True] Points {-axiswise}\n",
    "hv.notebook_extension('matplotlib')\n",
    "(hv.Points(dist,label=\"4. Undersaturation\")(style=dict(s=0.01,alpha=0.05)) + \n",
    "heatmap(dist,200,offset=0.2,label=\"5. Underutilized dynamic range\") +\n",
    "heatmap(dist,200,transform=eq_hist,label=\"6. Nonuniform colormapping\")(style=dict(cmap=\"hot\"))).cols(3)"
   ]
  },
  {
   "cell_type": "markdown",
   "metadata": {},
   "source": [
    "## Datashader just works to plot the best image\n",
    "- Given the available pixels on the screen!"
   ]
  },
  {
   "cell_type": "code",
   "execution_count": null,
   "metadata": {},
   "outputs": [],
   "source": [
    "%output size=200\n",
    "datashade.cmap=cc.rainbow[50:]\n",
    "datashade(hv.Points(dist))"
   ]
  },
  {
   "cell_type": "code",
   "execution_count": null,
   "metadata": {},
   "outputs": [],
   "source": [
    "dist = gaussians(specs=[(2,2,0.02), (2,-2,0.1), (-2,-2,0.5), (-2,2,1.0), (0,0,3)],num=5000000)\n",
    "\n",
    "datashade(hv.Points(dist))"
   ]
  },
  {
   "cell_type": "markdown",
   "metadata": {},
   "source": [
    "# Under the hood\n",
    "- Extensible processing Pipeline\n",
    "- Render data into a screen sized aggregate array\n",
    "- It sends an image back to the browser\n",
    "- Data doesn't have to all be in memory or on the same machine\n",
    "- Uses Numba and Dask for performance\n",
    "\n",
    "![Datashader Pipeline](http://datashader.org/assets/images/pipeline2.png)"
   ]
  },
  {
   "cell_type": "markdown",
   "metadata": {},
   "source": [
    "# Real Data\n",
    "This is a dataset consisting of over 10 million taxi trips in NYC"
   ]
  },
  {
   "cell_type": "code",
   "execution_count": null,
   "metadata": {},
   "outputs": [],
   "source": [
    "data_dir = \"../datashader-examples/data/\""
   ]
  },
  {
   "cell_type": "code",
   "execution_count": null,
   "metadata": {
    "scrolled": true
   },
   "outputs": [],
   "source": [
    "import geoviews as gv\n",
    "import pandas as pd\n",
    "\n",
    "hv.extension('bokeh', width=95)\n",
    "\n",
    "plot_width= 700\n",
    "plot_height = int(plot_width//1.2)\n",
    "\n",
    "%opts RGB     [width=plot_width, height=plot_height, xaxis=None yaxis=None show_grid=False] \n",
    "%opts Shape (fill_alpha=0 line_width=1.5) [apply_ranges=False tools=['tap']] \n",
    "%opts Points [apply_ranges=False] WMTS (alpha=0.5)\n",
    "\n",
    "datashade.cmap=cc.fire[50:]"
   ]
  },
  {
   "cell_type": "code",
   "execution_count": null,
   "metadata": {},
   "outputs": [],
   "source": [
    "df = pd.read_csv(data_dir + 'nyc_taxi.csv', usecols=\\\n",
    "                                ['pickup_x', 'pickup_y', 'dropoff_x','dropoff_y', 'passenger_count','tpep_pickup_datetime'])\n",
    "\n",
    "taxi_points = hv.Points(df, kdims=['pickup_x', 'pickup_y'])\n",
    "len(df)"
   ]
  },
  {
   "cell_type": "code",
   "execution_count": null,
   "metadata": {},
   "outputs": [],
   "source": [
    "shaded1 = datashade(taxi_points)"
   ]
  },
  {
   "cell_type": "code",
   "execution_count": null,
   "metadata": {},
   "outputs": [],
   "source": [
    "tiles = gv.WMTS('https://server.arcgisonline.com/ArcGIS/rest/services/World_Imagery/MapServer/tile/{Z}/{Y}/{X}.jpg')\n",
    "tiles * shaded1"
   ]
  },
  {
   "cell_type": "markdown",
   "metadata": {},
   "source": [
    "# Zooming\n",
    "\n",
    "When connected to a server, Datashader will re-render points when zooming.\n",
    "\n",
    "![Zoom Example](zoom.png)"
   ]
  },
  {
   "cell_type": "markdown",
   "metadata": {},
   "source": [
    "# Some other things Datashader can do\n",
    "- Timeseries plots\n",
    "- More advanced geospatial plots\n",
    "- Trajectories, e.g. from GPS\n",
    "- Triangle meshes to render polygons"
   ]
  }
 ],
 "metadata": {
  "kernelspec": {
   "display_name": "Python 3",
   "language": "python",
   "name": "python3"
  },
  "language_info": {
   "codemirror_mode": {
    "name": "ipython",
    "version": 3
   },
   "file_extension": ".py",
   "mimetype": "text/x-python",
   "name": "python",
   "nbconvert_exporter": "python",
   "pygments_lexer": "ipython3",
   "version": "3.6.7"
  }
 },
 "nbformat": 4,
 "nbformat_minor": 2
}
